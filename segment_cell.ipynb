{
 "cells": [
  {
   "cell_type": "code",
   "execution_count": 1,
   "metadata": {},
   "outputs": [],
   "source": [
    "import sys\n",
    "from tensorflow.keras import backend as K\n",
    "from tensorflow.keras import regularizers, optimizers\n",
    "from tensorflow.keras.applications import InceptionResNetV2, VGG19\n",
    "from tensorflow.keras.models import Model, Sequential, load_model\n",
    "from tensorflow.keras.layers import Dropout, Concatenate, Dense, Average, Dot\n",
    "from tensorflow.keras.layers import MaxPool2D, Conv2D, Add, ReLU, Lambda\n",
    "from tensorflow.keras.layers import Input, Flatten, BatchNormalization\n",
    "\n",
    "\n",
    "from tensorflow.keras.optimizers import Adam, RMSprop, Nadam\n",
    "from tensorflow.keras.callbacks import ModelCheckpoint, TensorBoard, LearningRateScheduler\n",
    "from tensorflow.keras.regularizers import l2\n",
    "import matplotlib.pyplot as plt\n",
    "from Utilities import *\n",
    "\n",
    "import pandas as pd\n",
    "import numpy as np\n",
    "from sklearn.model_selection import train_test_split\n",
    "import cv2"
   ]
  },
  {
   "cell_type": "code",
   "execution_count": 89,
   "metadata": {},
   "outputs": [],
   "source": [
    "class ppixel:\n",
    "    def __init__(self, pos_x, pos_y, value):\n",
    "        self.pos_x = pos_x\n",
    "        self.pos_y = pos_y\n",
    "        self.inOrOut = None\n",
    "        self.value = value\n",
    "    \n",
    "    def updateStat(self):\n",
    "        p_ele = []\n",
    "        values = []\n",
    "        \n",
    "        if self.pos_x > 0 and ppixels[self.pos_y][self.pos_x - 1].inOrOut == None:\n",
    "            p_ele += [[self.pos_y, self.pos_x - 1]]\n",
    "            values += [ppixels[self.pos_y][self.pos_x - 1].value]\n",
    "\n",
    "        if self.pos_y > 0 and ppixels[self.pos_y - 1][self.pos_x].inOrOut == None:\n",
    "            p_ele += [[self.pos_y - 1, self.pos_x]]\n",
    "            values += [ppixels[self.pos_y - 1][self.pos_x].value]\n",
    "\n",
    "        if self.pos_y < totalY - 1 and ppixels[self.pos_y + 1][self.pos_x].inOrOut == None:\n",
    "            p_ele += [[self.pos_y + 1, self.pos_x]]\n",
    "            values += [ppixels[self.pos_y + 1][self.pos_x].value]\n",
    "\n",
    "        if self.pos_x < totalX - 1 and ppixels[self.pos_y][self.pos_x + 1].inOrOut == None:\n",
    "            p_ele += [[self.pos_y, self.pos_x + 1]]\n",
    "            values += [ppixels[self.pos_y][self.pos_x + 1].value]\n",
    "        \n",
    "        if whiteSpace - self.value >= 50:\n",
    "            self.inOrOut = 'in'\n",
    "            edge[self.pos_y][self.pos_x] = 125\n",
    "            if len(values) != 0 and whiteSpace - max(values) < 50:\n",
    "                return [p_ele[np.argmax(values)]]\n",
    "            return []\n",
    "        \n",
    "        else:\n",
    "            edge[self.pos_y][self.pos_x] = 255\n",
    "            self.inOrOut = 'out'\n",
    "            return p_ele"
   ]
  },
  {
   "cell_type": "code",
   "execution_count": 90,
   "metadata": {},
   "outputs": [],
   "source": [
    "image = cv2.imread('./part_cell_further.PNG')\n",
    "gray = cv2.cvtColor(image, cv2.COLOR_RGB2GRAY)\n",
    "totalY, totalX = gray.shape\n",
    "ppixels = [[ppixel(i, j, gray[j][i]) for i in range(totalX)] for j in range(totalY)]\n",
    "whiteSpace = 255\n",
    "edge = np.zeros(gray.shape)\n",
    "toRun = [[0, 0]]\n",
    "while len(toRun) != 0:\n",
    "    running = toRun.pop()\n",
    "    NewToRun = ppixels[running[0]][running[1]].updateStat()\n",
    "    toRun += NewToRun"
   ]
  },
  {
   "cell_type": "code",
   "execution_count": 92,
   "metadata": {},
   "outputs": [
    {
     "data": {
      "text/plain": [
       "<matplotlib.image.AxesImage at 0x1fa414a5860>"
      ]
     },
     "execution_count": 92,
     "metadata": {},
     "output_type": "execute_result"
    },
    {
     "data": {
      "image/png": "[encoded data removed]",
      "text/plain": [
       "<Figure size 432x288 with 1 Axes>"
      ]
     },
     "metadata": {
      "needs_background": "light"
     },
     "output_type": "display_data"
    }
   ],
   "source": [
    "plt.imshow(image)"
   ]
  },
  {
   "cell_type": "code",
   "execution_count": 91,
   "metadata": {},
   "outputs": [
    {
     "data": {
      "text/plain": [
       "<matplotlib.image.AxesImage at 0x1fa3f9a18d0>"
      ]
     },
     "execution_count": 91,
     "metadata": {},
     "output_type": "execute_result"
    },
    {
     "data": {
      "image/png": "[encoded data removed]",
      "text/plain": [
       "<Figure size 432x288 with 1 Axes>"
      ]
     },
     "metadata": {
      "needs_background": "light"
     },
     "output_type": "display_data"
    }
   ],
   "source": [
    "plt.imshow(edge)"
   ]
  },
  {
   "cell_type": "code",
   "execution_count": null,
   "metadata": {},
   "outputs": [],
   "source": [
    "train_test_data = np.load('./images.npz')\n",
    "images = train_test_data['arr_0']\n",
    "labels = train_test_data['arr_1']\n",
    "images = images[0:27000]\n",
    "labels = labels[0:27000]\n",
    "m = images.shape[0]\n",
    "perm = np.random.permutation(m)\n",
    "\n",
    "images = images[perm]\n",
    "labels = labels[perm]\n",
    "def build_LeNet(input_shape, output_shape):\n",
    "    \n",
    "    input_layer = Input(shape=input_shape, dtype='float64')\n",
    "    \n",
    "    conv_layer = Conv2D(16, kernel_size=3, padding='same', activation='relu')(input_layer)\n",
    "    max_pool = MaxPool2D(pool_size=2, strides=2)(conv_layer)\n",
    "    norm = BatchNormalization()(conv_layer)    \n",
    "    dropout = Dropout(0.5)(norm)\n",
    "    \n",
    "    conv_layer = Conv2D(32, kernel_size=3, padding='same', activation='relu')(dropout)\n",
    "    max_pool = MaxPool2D(pool_size=2, strides=2)(conv_layer)\n",
    "    norm = BatchNormalization()(conv_layer)    \n",
    "    dropout_res_base = Dropout(0.5)(norm)\n",
    "    \n",
    "    # residual block branch 1\n",
    "    conv_layer_rb1 = Conv2D(32, kernel_size=3, padding='same', activation='relu')(dropout_res_base)\n",
    "    norm_rb1 = BatchNormalization()(conv_layer_rb1)    \n",
    "    dropout_rb1 = Dropout(0.5)(norm_rb1)\n",
    "    \n",
    "    conv_layer_rb1 = Conv2D(32, kernel_size=3, padding='same', activation='relu')(dropout_rb1)\n",
    "    norm_rb1 = BatchNormalization()(conv_layer_rb1)    \n",
    "    dropout_rb1 = Dropout(0.5)(norm_rb1)\n",
    "    \n",
    "    res_block_rb1 = Add()([dropout_res_base, dropout_rb1])\n",
    "    res_activation_rb1 = ReLU()(res_block_rb1)\n",
    "#     res_activation_rb1 = ReLU()(dropout_rb1)\n",
    "    \n",
    "    \n",
    "    # residual block branch 2\n",
    "    conv_layer_rb2 = Conv2D(32, kernel_size=3, padding='same', activation='relu')(dropout_res_base)\n",
    "    norm_rb2 = BatchNormalization()(conv_layer_rb2)    \n",
    "    dropout_rb2 = Dropout(0.5)(norm_rb2)\n",
    "    \n",
    "    conv_layer_rb2 = Conv2D(32, kernel_size=3, padding='same', activation='relu')(dropout_rb2)\n",
    "    norm_rb2 = BatchNormalization()(conv_layer_rb2)    \n",
    "    dropout_rb2 = Dropout(0.5)(norm_rb2)\n",
    "    \n",
    "    res_block_rb2 = Add()([dropout_res_base, dropout_rb2])\n",
    "    res_activation_rb2 = ReLU()(res_block_rb2)\n",
    "    # merge res branchses\n",
    "    average = Average()([res_activation_rb1, norm, res_activation_rb2])\n",
    "    norm = BatchNormalization()(average)\n",
    "    flatten = Flatten()(res_activation_rb1)\n",
    "    dense = Dense(120, activation='relu')(flatten)\n",
    "    output = Dense(output_shape, activation='softmax')(dense)\n",
    "    model = Model(inputs=[input_layer], outputs=[output])\n",
    "    model.compile(loss='sparse_categorical_crossentropy',\n",
    "              optimizer='Adam',  #(learning_rate=0.00005)',\n",
    "               metrics=['accuracy'])\n",
    "    \n",
    "    \n",
    "    return model\n",
    "\n",
    "m, i, j, k = images.shape\n",
    "\n",
    "\n",
    "model = build_LeNet(input_shape=(i, j, k), output_shape=2)\n",
    "\n",
    "model.summary()\n",
    "X_train, X_test, y_train, y_test = train_test_split(images, labels, test_size=0.2)\n",
    "checkpointer = ModelCheckpoint(filepath=\"LetNet_weights_augmented.hdf5\",\n",
    "                              verbose=1,\n",
    "                              save_best_only=True,\n",
    "                              monitor='val_accuracy')\n",
    "\n",
    "model_log = model.fit(x=X_train, y=y_train,\n",
    "                      validation_split=0.2,\n",
    "                      epochs=10,\n",
    "                      batch_size=64,\n",
    "                      shuffle=True,\n",
    "                      callbacks=[checkpointer])\n",
    "model = load_model('LetNet_weights_augmented.hdf5')\n",
    "\n",
    "yh_test = model.predict(X_test)\n",
    "\n",
    "yh_test_max = yh_test.argmax(axis=1)\n",
    "print('accuracy: {}'.format((1-ErrorRate(y_test, yh_test_max)).round(5)))"
   ]
  }
 ],
 "metadata": {
  "kernelspec": {
   "display_name": "Python 3",
   "language": "python",
   "name": "python3"
  },
  "language_info": {
   "codemirror_mode": {
    "name": "ipython",
    "version": 3
   },
   "file_extension": ".py",
   "mimetype": "text/x-python",
   "name": "python",
   "nbconvert_exporter": "python",
   "pygments_lexer": "ipython3",
   "version": "3.7.3"
  }
 },
 "nbformat": 4,
 "nbformat_minor": 2
}
